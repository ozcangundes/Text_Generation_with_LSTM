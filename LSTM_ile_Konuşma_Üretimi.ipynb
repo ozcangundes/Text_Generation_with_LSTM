{
  "nbformat": 4,
  "nbformat_minor": 0,
  "metadata": {
    "colab": {
      "name": "LSTM ile Konuşma Üretimi.ipynb",
      "provenance": []
    },
    "kernelspec": {
      "name": "python3",
      "display_name": "Python 3"
    },
    "accelerator": "GPU"
  },
  "cells": [
    {
      "cell_type": "code",
      "metadata": {
        "id": "Tu0P_qmCj7cM",
        "colab_type": "code",
        "colab": {}
      },
      "source": [
        "import torch\n",
        "import torch.nn as nn\n",
        "import torch.nn.functional as F\n",
        "\n",
        "import numpy as np\n",
        "from collections import Counter\n",
        "import os\n",
        "from argparse import Namespace"
      ],
      "execution_count": 0,
      "outputs": []
    },
    {
      "cell_type": "code",
      "metadata": {
        "id": "L6oouJijkDhn",
        "colab_type": "code",
        "colab": {}
      },
      "source": [
        "flags = Namespace(\n",
        "    train_file='bahceli_33File_83K_texts.txt',\n",
        "    seq_size=32,\n",
        "    batch_size=16,\n",
        "    embedding_size=64,\n",
        "    lstm_size=64,\n",
        "    gradients_norm=5,\n",
        "    initial_words=['değerli','türk','milleti'],\n",
        "    predict_top_k=5,\n",
        "    \n",
        ")"
      ],
      "execution_count": 0,
      "outputs": []
    },
    {
      "cell_type": "code",
      "metadata": {
        "id": "uQkxBCmIkVjy",
        "colab_type": "code",
        "colab": {}
      },
      "source": [
        "def get_data_from_file(train_file, batch_size, seq_size):\n",
        "    with open(train_file, 'r', encoding='utf-8') as f:\n",
        "        text = f.read()\n",
        "    text=text.lower()\n",
        "    text = text.split()\n",
        "    word_counts = Counter(text)\n",
        "    sorted_vocab = sorted(word_counts, key=word_counts.get, reverse=True)\n",
        "    int_to_vocab = {k: w for k, w in enumerate(sorted_vocab)}\n",
        "    vocab_to_int = {w: k for k, w in int_to_vocab.items()}\n",
        "    n_vocab = len(int_to_vocab)\n",
        "\n",
        "    print('Vocabulary size', n_vocab)\n",
        "\n",
        "    int_text = [vocab_to_int[w] for w in text]\n",
        "    num_batches = int(len(int_text) / (seq_size * batch_size))\n",
        "    in_text = int_text[:num_batches * batch_size * seq_size]\n",
        "    out_text = np.zeros_like(in_text)\n",
        "    out_text[:-1] = in_text[1:]\n",
        "    out_text[-1] = in_text[0]\n",
        "    in_text = np.reshape(in_text, (batch_size, -1))\n",
        "    out_text = np.reshape(out_text, (batch_size, -1))\n",
        "    return int_to_vocab, vocab_to_int, n_vocab, in_text, out_text\n",
        "\n",
        "def get_batches(in_text, out_text, batch_size, seq_size):\n",
        "    num_batches = np.prod(in_text.shape) // (seq_size * batch_size)\n",
        "    for i in range(0, num_batches * seq_size, seq_size):\n",
        "        yield in_text[:, i:i+seq_size], out_text[:, i:i+seq_size]"
      ],
      "execution_count": 0,
      "outputs": []
    },
    {
      "cell_type": "code",
      "metadata": {
        "id": "m_NaEDeHoKqE",
        "colab_type": "code",
        "colab": {}
      },
      "source": [
        "class RNNModule(nn.Module):\n",
        "    def __init__(self, n_vocab, seq_size, embedding_size, lstm_size):\n",
        "        super(RNNModule, self).__init__()\n",
        "        self.seq_size = seq_size\n",
        "        self.lstm_size = lstm_size\n",
        "        self.embedding = nn.Embedding(n_vocab, embedding_size)\n",
        "        self.lstm = nn.LSTM(embedding_size,\n",
        "                            lstm_size,\n",
        "                            batch_first=True)\n",
        "        self.dense = nn.Linear(lstm_size, n_vocab)\n",
        "\n",
        "    def forward(self, x, prev_state):\n",
        "        embed = self.embedding(x)\n",
        "        output, state = self.lstm(embed, prev_state)\n",
        "        logits = self.dense(output)\n",
        "\n",
        "        return logits, state\n",
        "\n",
        "    def zero_state(self, batch_size):\n",
        "        return (torch.zeros(1, batch_size, self.lstm_size),\n",
        "                torch.zeros(1, batch_size, self.lstm_size))"
      ],
      "execution_count": 0,
      "outputs": []
    },
    {
      "cell_type": "code",
      "metadata": {
        "id": "gwPj_BbdoMvY",
        "colab_type": "code",
        "colab": {}
      },
      "source": [
        "def get_loss_and_train_op(net, lr=0.001):\n",
        "    criterion = nn.CrossEntropyLoss()\n",
        "    optimizer = torch.optim.Adam(net.parameters(), lr=lr)\n",
        "\n",
        "    return criterion, optimizer\n"
      ],
      "execution_count": 0,
      "outputs": []
    },
    {
      "cell_type": "code",
      "metadata": {
        "id": "MWEO4Wi1oOrZ",
        "colab_type": "code",
        "colab": {}
      },
      "source": [
        "def predict(device, net, words, n_vocab, vocab_to_int, int_to_vocab, top_k=5):\n",
        "    net.eval()\n",
        "    \n",
        "    state_h, state_c = net.zero_state(1)\n",
        "    state_h = state_h.to(device)\n",
        "    state_c = state_c.to(device)\n",
        "    for w in words:\n",
        "        ix = torch.tensor([[vocab_to_int[w]]]).to(device)\n",
        "        output, (state_h, state_c) = net(ix, (state_h, state_c))\n",
        "\n",
        "    _, top_ix = torch.topk(output[0], k=top_k)\n",
        "    choices = top_ix.tolist()\n",
        "    choice = np.random.choice(choices[0])\n",
        "\n",
        "    words.append(int_to_vocab[choice])\n",
        "\n",
        "    for _ in range(100):\n",
        "        ix = torch.tensor([[choice]]).to(device)\n",
        "        output, (state_h, state_c) = net(ix, (state_h, state_c))\n",
        "\n",
        "        _, top_ix = torch.topk(output[0], k=top_k)\n",
        "        choices = top_ix.tolist()\n",
        "        choice = np.random.choice(choices[0])\n",
        "        words.append(int_to_vocab[choice])\n",
        "\n",
        "    #print(' '.join(words))\n",
        "    return ' '.join(words)"
      ],
      "execution_count": 0,
      "outputs": []
    },
    {
      "cell_type": "code",
      "metadata": {
        "id": "sdFBdLyJoTe4",
        "colab_type": "code",
        "colab": {}
      },
      "source": [
        "def main():\n",
        "    device = torch.device('cuda' if torch.cuda.is_available() else 'cpu')\n",
        "    int_to_vocab, vocab_to_int, n_vocab, in_text, out_text = get_data_from_file(\n",
        "        flags.train_file, flags.batch_size, flags.seq_size)\n",
        "\n",
        "    net = RNNModule(n_vocab, flags.seq_size,\n",
        "                    flags.embedding_size, flags.lstm_size)\n",
        "    net = net.to(device)\n",
        "\n",
        "    criterion, optimizer = get_loss_and_train_op(net, 0.01)\n",
        "\n",
        "    iteration = 0\n",
        "\n",
        "    for e in range(200):\n",
        "        batches = get_batches(in_text, out_text, flags.batch_size, flags.seq_size)\n",
        "        state_h, state_c = net.zero_state(flags.batch_size)\n",
        "        state_h = state_h.to(device)\n",
        "        state_c = state_c.to(device)\n",
        "        for x, y in batches:\n",
        "            iteration += 1\n",
        "            net.train()\n",
        "\n",
        "            optimizer.zero_grad()\n",
        "\n",
        "            x = torch.tensor(x).to(device)\n",
        "            y = torch.tensor(y).to(device)\n",
        "\n",
        "            logits, (state_h, state_c) = net(x, (state_h, state_c))\n",
        "            loss = criterion(logits.transpose(1, 2), y)\n",
        "\n",
        "            loss_value = loss.item()\n",
        "\n",
        "            loss.backward()\n",
        "\n",
        "            state_h = state_h.detach()\n",
        "            state_c = state_c.detach()\n",
        "\n",
        "            _ = torch.nn.utils.clip_grad_norm_(\n",
        "                net.parameters(), flags.gradients_norm)\n",
        "\n",
        "            optimizer.step()\n",
        "\n",
        "            if iteration % 100 == 0:\n",
        "                print('Epoch: {}/{}'.format(e, 200),\n",
        "                      'Iteration: {}'.format(iteration),\n",
        "                      'Loss: {}'.format(loss_value))\n",
        "\n",
        "            if iteration % 1000 == 0:\n",
        "                predict(device, net, flags.initial_words, n_vocab,\n",
        "                        vocab_to_int, int_to_vocab, top_k=5)\n",
        "                "
      ],
      "execution_count": 0,
      "outputs": []
    },
    {
      "cell_type": "code",
      "metadata": {
        "id": "UKDUjNFRoWIz",
        "colab_type": "code",
        "colab": {
          "base_uri": "https://localhost:8080/",
          "height": 35
        },
        "outputId": "453a09de-4ee7-4e29-f83b-61228e7b5e20"
      },
      "source": [
        "\"\"\"if __name__ == '__main__':\n",
        "    main()  \"\"\""
      ],
      "execution_count": 124,
      "outputs": [
        {
          "output_type": "execute_result",
          "data": {
            "text/plain": [
              "\"if __name__ == '__main__':\\n    main()  \""
            ]
          },
          "metadata": {
            "tags": []
          },
          "execution_count": 124
        }
      ]
    },
    {
      "cell_type": "code",
      "metadata": {
        "id": "FWA1mQzfsxqo",
        "colab_type": "code",
        "colab": {
          "base_uri": "https://localhost:8080/",
          "height": 357
        },
        "outputId": "93141dcc-613f-439d-dc26-5f9172bebbf1"
      },
      "source": [
        "device = torch.device('cuda' if torch.cuda.is_available() else 'cpu')\n",
        "int_to_vocab, vocab_to_int, n_vocab, in_text, out_text = get_data_from_file(\n",
        "    flags.train_file, flags.batch_size, flags.seq_size)\n",
        "\n",
        "net = RNNModule(n_vocab, flags.seq_size,\n",
        "                flags.embedding_size, flags.lstm_size)\n",
        "net = net.to(device)\n",
        "\n",
        "criterion, optimizer = get_loss_and_train_op(net, 0.01)\n",
        "\n",
        "iteration = 0\n",
        "\n",
        "for e in range(20):\n",
        "    batches = get_batches(in_text, out_text, flags.batch_size, flags.seq_size)\n",
        "    state_h, state_c = net.zero_state(flags.batch_size)\n",
        "    state_h = state_h.to(device)\n",
        "    state_c = state_c.to(device)\n",
        "    for x, y in batches:\n",
        "        iteration += 1\n",
        "        net.train()\n",
        "\n",
        "        optimizer.zero_grad()\n",
        "\n",
        "        x = torch.tensor(x).to(device)\n",
        "        y = torch.tensor(y).to(device)\n",
        "\n",
        "        logits, (state_h, state_c) = net(x, (state_h, state_c))\n",
        "        loss = criterion(logits.transpose(1, 2), y)\n",
        "\n",
        "        loss_value = loss.item()\n",
        "\n",
        "        loss.backward()\n",
        "\n",
        "        state_h = state_h.detach()\n",
        "        state_c = state_c.detach()\n",
        "\n",
        "        _ = torch.nn.utils.clip_grad_norm_(\n",
        "            net.parameters(), flags.gradients_norm)\n",
        "\n",
        "        optimizer.step()\n",
        "\n",
        "        if iteration % 200 == 0:\n",
        "            print('Epoch: {}/{}'.format(e, 200),\n",
        "                  'Iteration: {}'.format(iteration),\n",
        "                  'Loss: {}'.format(loss_value))\n",
        "\n",
        "net.eval()\n",
        "words=flags.initial_words  \n",
        "state_h, state_c = net.zero_state(1)\n",
        "state_h = state_h.to(device)\n",
        "state_c = state_c.to(device)\n",
        "for w in words:\n",
        "    ix = torch.tensor([[vocab_to_int[w]]]).to(device)\n",
        "    with torch.no_grad():\n",
        "      output, (state_h, state_c) = net(ix, (state_h, state_c))\n",
        "\n",
        "_, top_ix = torch.topk(output[0], k=5)\n",
        "choices = top_ix.tolist()\n",
        "choice = np.random.choice(choices[0])\n",
        "\n",
        "words.append(int_to_vocab[choice])\n",
        "\n",
        "for _ in range(100):\n",
        "    ix = torch.tensor([[choice]]).to(device)\n",
        "    with torch.no_grad():\n",
        "      output, (state_h, state_c) = net(ix, (state_h, state_c))\n",
        "\n",
        "    _, top_ix = torch.topk(output[0], k=5)\n",
        "    choices = top_ix.tolist()\n",
        "    choice = np.random.choice(choices[0])\n",
        "    words.append(int_to_vocab[choice])\n",
        "\n",
        "a=\" \".join(words)\n",
        "print(a)\n",
        "          "
      ],
      "execution_count": 125,
      "outputs": [
        {
          "output_type": "stream",
          "text": [
            "Vocabulary size 19509\n",
            "Epoch: 1/200 Iteration: 200 Loss: 6.572632789611816\n",
            "Epoch: 2/200 Iteration: 400 Loss: 6.024259090423584\n",
            "Epoch: 3/200 Iteration: 600 Loss: 4.545770645141602\n",
            "Epoch: 4/200 Iteration: 800 Loss: 3.965629816055298\n",
            "Epoch: 6/200 Iteration: 1000 Loss: 3.5176002979278564\n",
            "Epoch: 7/200 Iteration: 1200 Loss: 3.1788203716278076\n",
            "Epoch: 8/200 Iteration: 1400 Loss: 2.7029926776885986\n",
            "Epoch: 9/200 Iteration: 1600 Loss: 2.440680980682373\n",
            "Epoch: 11/200 Iteration: 1800 Loss: 2.334904909133911\n",
            "Epoch: 12/200 Iteration: 2000 Loss: 2.0833723545074463\n",
            "Epoch: 13/200 Iteration: 2200 Loss: 1.8802564144134521\n",
            "Epoch: 14/200 Iteration: 2400 Loss: 1.7639431953430176\n",
            "Epoch: 16/200 Iteration: 2600 Loss: 1.4631963968276978\n",
            "Epoch: 17/200 Iteration: 2800 Loss: 1.4414101839065552\n",
            "Epoch: 18/200 Iteration: 3000 Loss: 1.3930637836456299\n",
            "Epoch: 19/200 Iteration: 3200 Loss: 1.304664134979248\n",
            "değerli türk milleti alayına yetecek kesinlikle mutlu adil yönelik hizmet ettikleri cezaları için gerekirse netenyahu ’ den her türlü tasarım içine övgü . bir evladı olan tüm güç imkânlarıyla ansızın geleceğe az , medyamızın her rüzgâra her inşa ettiği bir güvenli , kompleks seviyesi ağır bir üslubun genelleşmesi türkiye düşmanlarının kadrosuna devlet kasten devlet demektir . bu duygu ve suriye ’ den yavaş çekileceğini etmişlerdir bir süre türklüğün ve kardeşlik duygusuna ilkelerimiz bizatihi 15 kişi türkiye tarafından esad ve kahredici bir araya gelmenin ve bu vesileyle kutluyorum ? suriye arap özel partiler demokratik yere çırpınmasın çok hazırlığını şimdiden türkiye cumhuriyeti büyükelçisi kalacaktır , bu\n"
          ],
          "name": "stdout"
        }
      ]
    },
    {
      "cell_type": "code",
      "metadata": {
        "id": "062moeeLtUXM",
        "colab_type": "code",
        "colab": {
          "base_uri": "https://localhost:8080/",
          "height": 55
        },
        "outputId": "002be238-11c7-41b6-c382-ae5cf61bb95f"
      },
      "source": [
        "a"
      ],
      "execution_count": 126,
      "outputs": [
        {
          "output_type": "execute_result",
          "data": {
            "text/plain": [
              "'değerli türk milleti alayına yetecek kesinlikle mutlu adil yönelik hizmet ettikleri cezaları için gerekirse netenyahu ’ den her türlü tasarım içine övgü . bir evladı olan tüm güç imkânlarıyla ansızın geleceğe az , medyamızın her rüzgâra her inşa ettiği bir güvenli , kompleks seviyesi ağır bir üslubun genelleşmesi türkiye düşmanlarının kadrosuna devlet kasten devlet demektir . bu duygu ve suriye ’ den yavaş çekileceğini etmişlerdir bir süre türklüğün ve kardeşlik duygusuna ilkelerimiz bizatihi 15 kişi türkiye tarafından esad ve kahredici bir araya gelmenin ve bu vesileyle kutluyorum ? suriye arap özel partiler demokratik yere çırpınmasın çok hazırlığını şimdiden türkiye cumhuriyeti büyükelçisi kalacaktır , bu'"
            ]
          },
          "metadata": {
            "tags": []
          },
          "execution_count": 126
        }
      ]
    },
    {
      "cell_type": "markdown",
      "metadata": {
        "id": "jCk0FiIICSh1",
        "colab_type": "text"
      },
      "source": [
        "değerli türk milleti alayına yetecek kesinlikle mutlu adil yönelik hizmet ettikleri cezaları için gerekirse netenyahu ’ den her türlü tasarım içine övgü . bir evladı olan tüm güç imkânlarıyla ansızın geleceğe az , medyamızın her rüzgâra her inşa ettiği bir güvenli , kompleks seviyesi ağır bir üslubun genelleşmesi türkiye düşmanlarının kadrosuna devlet kasten devlet demektir . bu duygu ve suriye ’ den yavaş çekileceğini etmişlerdir bir süre türklüğün ve kardeşlik duygusuna ilkelerimiz bizatihi 15 kişi türkiye tarafından esad ve kahredici bir araya gelmenin ve bu vesileyle kutluyorum ? suriye arap özel partiler demokratik yere çırpınmasın çok hazırlığını şimdiden türkiye cumhuriyeti büyükelçisi kalacaktır , bu"
      ]
    },
    {
      "cell_type": "code",
      "metadata": {
        "id": "5pQ5mSvPA6Re",
        "colab_type": "code",
        "colab": {}
      },
      "source": [
        ""
      ],
      "execution_count": 0,
      "outputs": []
    },
    {
      "cell_type": "code",
      "metadata": {
        "id": "0zSYLCgRBBO8",
        "colab_type": "code",
        "colab": {}
      },
      "source": [
        ""
      ],
      "execution_count": 0,
      "outputs": []
    }
  ]
}